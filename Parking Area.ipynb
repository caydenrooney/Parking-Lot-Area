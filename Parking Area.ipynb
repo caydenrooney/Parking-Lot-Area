{
 "cells": [
  {
   "cell_type": "markdown",
   "id": "0e42fd7d-2e80-4587-aff9-8085cc52454e",
   "metadata": {},
   "source": [
    "NOTE: all data is based off of OpenStreetMap data that may contain inaccuracies. Additionally, city boundaries are purely political, designated boundaries according to OpenStreetMap (administration level 8), and ARE NOT metro-area boundaries."
   ]
  },
  {
   "cell_type": "code",
   "execution_count": null,
   "id": "85b91c67-74a6-4162-9fbf-e0db6306c744",
   "metadata": {},
   "outputs": [],
   "source": [
    "import geopandas as gpd\n",
    "from shapely.geometry import Polygon, MultiPolygon\n",
    "import requests\n",
    "import pandas as pd\n",
    "import pyproj\n",
    "\n",
    "def get_city_parking(city, state):\n",
    "    \n",
    "    GEO_API_KEY = 'your API key' #insert your own OpenCage API\n",
    "\n",
    "    geo_query = f\"{city}, {state}\"\n",
    "    URL = f'https://api.opencagedata.com/geocode/v1/json?q={geo_query}&key={GEO_API_KEY}'\n",
    "    \n",
    "    geo_response = requests.get(URL)\n",
    "    data = geo_response.json()\n",
    "    result = data['results'][0]['bounds']\n",
    "\n",
    "    min_lat = result['southwest']['lat']\n",
    "    min_lon = result['southwest']['lng']\n",
    "    max_lat = result['northeast']['lat']\n",
    "    max_lon = result['northeast']['lng'] \n",
    "    rounded_lng = round(min_lon)\n",
    "    UTM_zone = int((rounded_lng + 180) / 6) + 1\n",
    "    EPSG = 32600 + UTM_zone\n",
    "    \n",
    "\n",
    "    osm_query = f\"\"\"\n",
    "    [out:json];\n",
    "    area[\"name\"=\"{city}\"]->.searchArea;\n",
    "    (\n",
    "    way[\"amenity\"=\"parking\"](area.searchArea);\n",
    "    relation[\"amenity\"=\"parking\"](area.searchArea);\n",
    "    \n",
    "    );\n",
    "    out geom;\n",
    "    \"\"\"\n",
    "\n",
    "    url = \"https://overpass-api.de/api/interpreter\"\n",
    "    osm_response = requests.get(url, params={'data': osm_query})\n",
    "    \n",
    "    data = osm_response.json()\n",
    "    polygons = []\n",
    "        \n",
    "    if osm_response.status_code != 200:\n",
    "        print(\"Error fetching data from Overpass API\")\n",
    "        return None\n",
    "    for element in data[\"elements\"]:\n",
    "        if \"geometry\" in element:\n",
    "            coordinates = [(point[\"lon\"], point[\"lat\"]) for point in element[\"geometry\"]]\n",
    "            if len(coordinates) > 2:  \n",
    "                polygon = Polygon(coordinates)\n",
    "                polygons.append(polygon)\n",
    "                    \n",
    "    multi_polygon = MultiPolygon(polygons)\n",
    "    gdf = gpd.GeoDataFrame(\n",
    "        {\"name\": [\"Parking Lot\"], \"geometry\": [multi_polygon]},\n",
    "        crs=\"EPSG:4326\"\n",
    "    ) \n",
    "    gdf_projected = gdf.to_crs(EPSG)\n",
    "        \n",
    "    area_sq_m = gdf_projected.geometry.area.iloc[0]\n",
    "    area_sq_km = area_sq_m / 1e6\n",
    "    return area_sq_km"
   ]
  },
  {
   "cell_type": "code",
   "execution_count": null,
   "id": "76bc4b94-6edd-4545-bf4b-72f672fabe6f",
   "metadata": {},
   "outputs": [],
   "source": [
    "get_city_parking('Chicago', 'Illinois') #Example "
   ]
  }
 ],
 "metadata": {
  "kernelspec": {
   "display_name": "Python 3 (ipykernel)",
   "language": "python",
   "name": "python3"
  },
  "language_info": {
   "codemirror_mode": {
    "name": "ipython",
    "version": 3
   },
   "file_extension": ".py",
   "mimetype": "text/x-python",
   "name": "python",
   "nbconvert_exporter": "python",
   "pygments_lexer": "ipython3",
   "version": "3.12.7"
  }
 },
 "nbformat": 4,
 "nbformat_minor": 5
}
